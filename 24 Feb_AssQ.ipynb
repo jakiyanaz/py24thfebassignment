{
 "cells": [
  {
   "cell_type": "markdown",
   "id": "4faeaa53-058d-49cb-add2-41f1bf228b34",
   "metadata": {},
   "source": [
    "## Q1. List any five functions of the pandas library with execution."
   ]
  },
  {
   "cell_type": "code",
   "execution_count": 11,
   "id": "f5bb5052-14b0-42cf-ac06-2d2f2a4c6946",
   "metadata": {},
   "outputs": [
    {
     "name": "stdout",
     "output_type": "stream",
     "text": [
      "0       Kiara\n",
      "1      Claire\n",
      "2    Jennifer\n",
      "3        Mark\n",
      "4        John\n",
      "dtype: object\n",
      "0    13\n",
      "1    15\n",
      "2    17\n",
      "3    12\n",
      "4    16\n",
      "dtype: int64\n",
      "       Name  Age\n",
      "0     Kiara   13\n",
      "1    Claire   15\n",
      "2  Jennifer   17\n",
      "3      Mark   12\n",
      "4      John   16\n",
      "                    John       Doe                 120 jefferson st.  \\\n",
      "0                   Jack  McGinnis                      220 hobo Av.   \n",
      "1          John \"Da Man\"    Repici                 120 Jefferson St.   \n",
      "2                Stephen     Tyler  7452 Terrace \"At the Plaza\" road   \n",
      "3                    NaN  Blankman                               NaN   \n",
      "4  Joan \"the bone\", Anne       Jet               9th, at Terrace plc   \n",
      "\n",
      "     Riverside   NJ   08075  \n",
      "0        Phila   PA    9119  \n",
      "1    Riverside   NJ    8075  \n",
      "2     SomeTown   SD   91234  \n",
      "3     SomeTown   SD     298  \n",
      "4  Desert City   CO     123  \n",
      "            John       Doe  120 jefferson st.  Riverside   NJ   08075\n",
      "0           Jack  McGinnis       220 hobo Av.      Phila   PA    9119\n",
      "1  John \"Da Man\"    Repici  120 Jefferson St.  Riverside   NJ    8075\n",
      "                    John       Doe                 120 jefferson st.  \\\n",
      "0                   Jack  McGinnis                      220 hobo Av.   \n",
      "1          John \"Da Man\"    Repici                 120 Jefferson St.   \n",
      "2                Stephen     Tyler  7452 Terrace \"At the Plaza\" road   \n",
      "4  Joan \"the bone\", Anne       Jet               9th, at Terrace plc   \n",
      "\n",
      "     Riverside   NJ   08075  \n",
      "0        Phila   PA    9119  \n",
      "1    Riverside   NJ    8075  \n",
      "2     SomeTown   SD   91234  \n",
      "4  Desert City   CO     123  \n"
     ]
    }
   ],
   "source": [
    "import pandas as pd\n",
    "# 1. .Series()\n",
    "name = [\"Kiara\", \"Claire\", \"Jennifer\", \"Mark\", \"John\"]\n",
    "age = [13, 15, 17, 12, 16]\n",
    "series1 = pd.Series(name)\n",
    "series2 = pd.Series(age)\n",
    "frame = {'Name':series1, 'Age':series2}\n",
    "print(series1)\n",
    "print(series2)\n",
    "\n",
    "# 2. .Dataframe()\n",
    "df = pd.DataFrame(frame)\n",
    "print(df)\n",
    "\n",
    "# 3. .read_csv()\n",
    "readcsv = pd.read_csv('addresses.csv')\n",
    "print(readcsv)\n",
    "\n",
    "# 4. .head()\n",
    "print(readcsv.head(2))\n",
    "\n",
    "# 5. .dropna()\n",
    "new_df = readcsv.dropna()\n",
    "print(new_df)"
   ]
  },
  {
   "cell_type": "markdown",
   "id": "28cca188-bc07-486b-9d24-ee773a1064ef",
   "metadata": {},
   "source": [
    "## Q2. Given a Pandas DataFrame df with columns 'A', 'B', and 'C', write a Python function to re-index the DataFrame with a new index that starts from 1 and increments by 2 for each row."
   ]
  },
  {
   "cell_type": "code",
   "execution_count": 27,
   "id": "e9c764f1-c3d8-4dfd-9c86-5a0f7ec9eff4",
   "metadata": {},
   "outputs": [
    {
     "name": "stdout",
     "output_type": "stream",
     "text": [
      "       B   C\n",
      "A           \n",
      "1   Jack  24\n",
      "2   John  17\n",
      "3    Doe  15\n",
      "4   Mark  18\n",
      "5   Mike  15\n",
      "6  Chloe  17\n",
      "       B     C\n",
      "A             \n",
      "1   Jack  24.0\n",
      "3    Doe  15.0\n",
      "5   Mike  15.0\n",
      "7    NaN   NaN\n",
      "9    NaN   NaN\n",
      "11   NaN   NaN\n"
     ]
    }
   ],
   "source": [
    "df = pd.DataFrame([[1, 'Jack', 24], [2, 'John', 17], [3, 'Doe', 15], [4, 'Mark', 18], [5, 'Mike', 15], [6, 'Chloe', 17]], columns=['A', 'B', 'C'])\n",
    "# print(df)\n",
    "newindex = [1,3,5,7,9,11]\n",
    "newdf = df.set_index('A')\n",
    "print(newdf)\n",
    "redf = newdf.reindex(newindex)\n",
    "print(redf)"
   ]
  },
  {
   "cell_type": "markdown",
   "id": "0498ede7-fece-43b3-911d-0c8027d84b05",
   "metadata": {},
   "source": [
    "## Q3. You have a Pandas DataFrame df with a column named 'Values'. Write a Python function that iterates over the DataFrame and calculates the sum of the first three values in the 'Values' column. The function should print the sum to the console.\n",
    "For example, if the 'Values' column of df contains the values [10, 20, 30, 40, 50], your function should \n",
    "calculate and print the sum of the first three values, which is 60"
   ]
  },
  {
   "cell_type": "code",
   "execution_count": 19,
   "id": "9d1ebdaa-bad8-492b-a419-2546afb78151",
   "metadata": {},
   "outputs": [
    {
     "name": "stdout",
     "output_type": "stream",
     "text": [
      "Values    60\n",
      "dtype: int64\n"
     ]
    }
   ],
   "source": [
    "import pandas as pd\n",
    "import functools\n",
    "df = pd.DataFrame([10,20,30,40,50], columns=['Values'])\n",
    "# print(df)\n",
    "rows = len(df.axes[0])\n",
    "cols = len(df.axes[1])\n",
    "# print(rows, cols)\n",
    "data = df.head(3)\n",
    "# print(data)\n",
    "print(data.sum())"
   ]
  },
  {
   "cell_type": "markdown",
   "id": "abdabcea-822f-4aad-9ff9-8fb7fbc901a5",
   "metadata": {},
   "source": [
    "## Q4. Given a Pandas DataFrame df with a column 'Text', write a Python function to create a new column 'Word_Count' that contains the number of words in each row of the 'Text' column."
   ]
  },
  {
   "cell_type": "code",
   "execution_count": 5,
   "id": "ba10df95-7f0a-4b85-8804-796c01ef6dd0",
   "metadata": {},
   "outputs": [
    {
     "name": "stdout",
     "output_type": "stream",
     "text": [
      "      Text\n",
      "0  Aradhya\n",
      "1   Amrita\n",
      "2   Ananya\n",
      "3     Arya\n",
      "[7, 6, 6, 4]\n",
      "      Text  Word_Count\n",
      "0  Aradhya           7\n",
      "1   Amrita           6\n",
      "2   Ananya           6\n",
      "3     Arya           4\n"
     ]
    }
   ],
   "source": [
    "import pandas as pd\n",
    "data = ['Aradhya', 'Amrita', 'Ananya', 'Arya']\n",
    "df = pd.DataFrame(data, columns=['Text'])\n",
    "print(df)\n",
    "listdata = []\n",
    "for i in data:\n",
    "    listdata.append(len(i))\n",
    "print(listdata)\n",
    "df['Word_Count'] = listdata\n",
    "print(df)"
   ]
  },
  {
   "cell_type": "markdown",
   "id": "91def243-23f5-4ea3-8e5d-4afa37d0ac14",
   "metadata": {},
   "source": [
    "## Q5. How are DataFrame.size() and DataFrame.shape() different?"
   ]
  },
  {
   "cell_type": "markdown",
   "id": "9189eb6b-d038-4c26-be87-2f68b374f19a",
   "metadata": {},
   "source": [
    "Pandas DataFrame size():\n",
    "\n",
    "    The size property is used to get an int representing the number of elements in this object and Return the number of rows if Series. Otherwise, return the number of rows times the number of columns if DataFrame.\n",
    "    \n",
    "Pandas DataFrame shape():\n",
    "\n",
    "    The shape property is used to get a tuple representing the dimensionality of the Pandas DataFrame."
   ]
  },
  {
   "cell_type": "markdown",
   "id": "bd16b900-e441-48fc-9024-a281a95b183a",
   "metadata": {},
   "source": [
    "## Q6. Which function of pandas do we use to read an excel file?"
   ]
  },
  {
   "cell_type": "markdown",
   "id": "4ba2fca9-ed73-410f-9d5c-7fec3fb80ebd",
   "metadata": {},
   "source": [
    "pandas.read_excel()  is used to read an excel file in Pandas."
   ]
  },
  {
   "cell_type": "markdown",
   "id": "85210267-a86d-42f8-b96b-74cba1f0f97a",
   "metadata": {},
   "source": [
    "## Q7. You have a Pandas DataFrame df that contains a column named 'Email' that contains email addresses in the format 'username@domain.com'. Write a Python function that creates a new column 'Username' in df that contains only the username part of each email address."
   ]
  },
  {
   "cell_type": "code",
   "execution_count": 11,
   "id": "3987fc6b-1888-48b7-bed7-373159aedd02",
   "metadata": {},
   "outputs": [
    {
     "name": "stdout",
     "output_type": "stream",
     "text": [
      "           username\n",
      "0     abc@gmail.com\n",
      "1     xyz@yahoo.com\n",
      "2  blah24@gmail.com\n",
      "        0\n",
      "0     abc\n",
      "1     xyz\n",
      "2  blah24\n"
     ]
    }
   ],
   "source": [
    "df = pd.DataFrame({'username': ['abc@gmail.com', 'xyz@yahoo.com', 'blah24@gmail.com']})\n",
    "print(df)\n",
    "print(df.username.str.extract(\"(.*)@\"))"
   ]
  },
  {
   "cell_type": "markdown",
   "id": "ce800354-b29f-4e07-bc11-c11295567460",
   "metadata": {},
   "source": [
    "## Q8. You have a Pandas DataFrame df with columns 'A', 'B', and 'C'. Write a Python function that selects all rows where the value in column 'A' is greater than 5 and the value in column 'B' is less than 10. The function should return a new DataFrame that contains only the selected rows.\n",
    "\n",
    "For example, if df contains the following values:\n",
    "\n",
    "   A   B   C\n",
    "\n",
    "0  3   5   1\n",
    "\n",
    "1  8   2   7\n",
    "\n",
    "2  6   9   4\n",
    "\n",
    "3  2   3   5\n",
    "\n",
    "4  9   1   2\n"
   ]
  },
  {
   "cell_type": "code",
   "execution_count": 5,
   "id": "7617b709-3aa1-47f5-bc07-4b81490212b7",
   "metadata": {},
   "outputs": [
    {
     "name": "stdout",
     "output_type": "stream",
     "text": [
      "   A  B  C\n",
      "0  3  5  1\n",
      "1  8  2  7\n",
      "2  6  9  4\n",
      "3  2  3  5\n",
      "4  9  1  2\n",
      "   A  B  C\n",
      "1  8  2  7\n",
      "2  6  9  4\n",
      "4  9  1  2\n"
     ]
    }
   ],
   "source": [
    "import pandas as pd\n",
    "data = [[3,   5,   1], [8,   2,   7], [6,   9,   4], [2,   3,   5], [9,   1,   2]]\n",
    "df = pd.DataFrame(data, columns=['A', 'B', 'C'])\n",
    "print(df)\n",
    "df_new = df[(df[\"A\"] > 5) & (df[\"B\"] < 10)]\n",
    "print(df_new)"
   ]
  },
  {
   "cell_type": "markdown",
   "id": "fd54ab60-56ff-404e-82f5-167b425c33c4",
   "metadata": {},
   "source": [
    "## Q9. Given a Pandas DataFrame df with a column 'Values', write a Python function to calculate the mean, median, and standard deviation of the values in the 'Values' column."
   ]
  },
  {
   "cell_type": "code",
   "execution_count": 7,
   "id": "95988db3-e440-49c2-8209-7da1c076df21",
   "metadata": {},
   "outputs": [
    {
     "name": "stdout",
     "output_type": "stream",
     "text": [
      "Values    30.0\n",
      "dtype: float64\n",
      "Values    30.0\n",
      "dtype: float64\n",
      "Values    15.811388\n",
      "dtype: float64\n"
     ]
    }
   ],
   "source": [
    "df = pd.DataFrame([10,20,30,40,50], columns=['Values'])\n",
    "print(df.mean())\n",
    "print(df.median())\n",
    "print(df.std())"
   ]
  },
  {
   "cell_type": "markdown",
   "id": "5f8cd0aa-47d1-4eb4-98d4-2ead015ee006",
   "metadata": {},
   "source": [
    "## Q10. Given a Pandas DataFrame df with a column 'Sales' and a column 'Date', write a Python function to create a new column 'MovingAverage' that contains the moving average of the sales for the past 7 days for each row in the DataFrame. The moving average should be calculated using a window of size 7 and should include the current day."
   ]
  },
  {
   "cell_type": "code",
   "execution_count": 34,
   "id": "d9eab826-c0d6-4c4a-acca-c2a203cc75fd",
   "metadata": {},
   "outputs": [
    {
     "name": "stdout",
     "output_type": "stream",
     "text": [
      "            Sales\n",
      "Date             \n",
      "2023-05-04     10\n",
      "2023-05-05     20\n",
      "2023-05-06     30\n",
      "2023-05-07     40\n",
      "2023-05-08     50\n",
      "2023-05-09     60\n",
      "2023-05-10     70\n",
      "            Sales\n",
      "Date             \n",
      "2023-05-04    NaN\n",
      "2023-05-05    NaN\n",
      "2023-05-06    NaN\n",
      "2023-05-07    NaN\n",
      "2023-05-08    NaN\n",
      "2023-05-09    NaN\n",
      "2023-05-10   40.0\n"
     ]
    }
   ],
   "source": [
    "import pandas as pd\n",
    "sales = [10, 20,30,40,50,60, 70]\n",
    "df = pd.DataFrame(sales, columns=['Sales'])\n",
    "df['Date'] = pd.date_range(start='5/4/2023', periods=7, freq='D')\n",
    "# print(df)\n",
    "df.set_index('Date', inplace=True)\n",
    "# print(df)\n",
    "df['Sales'] = df['Sales'].rolling(7).mean()\n",
    "print(df)"
   ]
  },
  {
   "cell_type": "markdown",
   "id": "6d30e0a8-2fa1-4a31-ba17-a35424022676",
   "metadata": {},
   "source": [
    "## Q11. You have a Pandas DataFrame df with a column 'Date'. Write a Python function that creates a new column 'Weekday' in the DataFrame. The 'Weekday' column should contain the weekday name (e.g. Monday, Tuesday) corresponding to each date in the 'Date' column.\n",
    "\n",
    "## For example, if df contains the following values:\n",
    "\n",
    "         Date\n",
    "\n",
    "0  2023-01-01\n",
    "\n",
    "1  2023-01-02\n",
    "\n",
    "2  2023-01-03\n",
    "\n",
    "3  2023-01-04\n",
    "\n",
    "4  2023-01-05\n",
    "\n",
    "Your function should create the following DataFrame:\n",
    "\n",
    "\n",
    "         Date    Weekday\n",
    "\n",
    "0  2023-01-01    Sunday\n",
    "\n",
    "1  2023-01-02     Monday\n",
    "\n",
    "2  2023-01-03    Tuesday\n",
    "\n",
    "3  2023-01-04    Wednesday\n",
    "\n",
    "4  2023-01-05    Thursday\n",
    "\n",
    "The function should return the modified DataFrame.\n"
   ]
  },
  {
   "cell_type": "code",
   "execution_count": 21,
   "id": "6734e1bd-6f1a-4376-ade6-7064eb837abf",
   "metadata": {},
   "outputs": [
    {
     "name": "stdout",
     "output_type": "stream",
     "text": [
      "        Date    Weekday\n",
      "0 2023-01-01     Sunday\n",
      "1 2023-01-02     Monday\n",
      "2 2023-01-03    Tuesday\n",
      "3 2023-01-04  Wednesday\n",
      "4 2023-01-05   Thursday\n"
     ]
    }
   ],
   "source": [
    "df1 = pd.DataFrame()\n",
    "df1['Date'] = pd.date_range(start='1/1/2023', periods=5, freq ='D')\n",
    "df1['Weekday'] = ['Sunday', 'Monday', 'Tuesday', 'Wednesday', 'Thursday']\n",
    "print(df1)"
   ]
  },
  {
   "cell_type": "markdown",
   "id": "672b8c4b-a3f2-431c-a192-61d17c217890",
   "metadata": {},
   "source": [
    "## Q12. Given a Pandas DataFrame df with a column 'Date' that contains timestamps, write a Python function to select all rows where the date is between '2023-01-01' and '2023-01-31'."
   ]
  },
  {
   "cell_type": "code",
   "execution_count": 37,
   "id": "1c166251-17eb-4da3-9b3a-58d412947ac1",
   "metadata": {},
   "outputs": [
    {
     "name": "stdout",
     "output_type": "stream",
     "text": [
      "         Date\n",
      "0  2023-01-01\n",
      "1  2023-01-02\n",
      "2  2023-01-03\n",
      "3  2023-01-04\n",
      "4  2023-01-05\n",
      "5  2023-01-06\n",
      "6  2023-01-07\n",
      "7  2023-01-08\n",
      "8  2023-01-09\n",
      "9  2023-01-10\n",
      "10 2023-01-11\n",
      "11 2023-01-12\n",
      "12 2023-01-13\n",
      "13 2023-01-14\n",
      "14 2023-01-15\n",
      "15 2023-01-16\n",
      "16 2023-01-17\n",
      "17 2023-01-18\n",
      "18 2023-01-19\n",
      "19 2023-01-20\n",
      "20 2023-01-21\n",
      "21 2023-01-22\n",
      "22 2023-01-23\n",
      "23 2023-01-24\n",
      "24 2023-01-25\n",
      "25 2023-01-26\n",
      "26 2023-01-27\n",
      "27 2023-01-28\n",
      "28 2023-01-29\n",
      "29 2023-01-30\n",
      "30 2023-01-31\n",
      "31 2023-02-01\n",
      "32 2023-02-02\n",
      "33 2023-02-03\n",
      "34 2023-02-04\n",
      "35 2023-02-05\n",
      "36 2023-02-06\n",
      "37 2023-02-07\n",
      "38 2023-02-08\n",
      "39 2023-02-09\n"
     ]
    }
   ],
   "source": [
    "import datetime\n",
    "import pandas as pd\n",
    "df1 = pd.DataFrame()\n",
    "df1['Date'] = pd.date_range(start='1/1/2023', periods=40, freq ='D')\n",
    "print(df1)"
   ]
  },
  {
   "cell_type": "markdown",
   "id": "493b173b-673f-406a-a382-378b11338957",
   "metadata": {},
   "source": [
    "## Q13. To use the basic functions of pandas, what is the first and foremost necessary library that needs to be imported ?"
   ]
  },
  {
   "cell_type": "markdown",
   "id": "3b5ed913-29aa-426c-8039-44a3c68b0d36",
   "metadata": {},
   "source": [
    "pandas library is the first and foremost necessary library that needs to be imported to use the basic functions of pandas."
   ]
  },
  {
   "cell_type": "code",
   "execution_count": null,
   "id": "cc398a9d-0301-45d6-a356-fabefb7932bd",
   "metadata": {},
   "outputs": [],
   "source": []
  }
 ],
 "metadata": {
  "kernelspec": {
   "display_name": "Python 3 (ipykernel)",
   "language": "python",
   "name": "python3"
  },
  "language_info": {
   "codemirror_mode": {
    "name": "ipython",
    "version": 3
   },
   "file_extension": ".py",
   "mimetype": "text/x-python",
   "name": "python",
   "nbconvert_exporter": "python",
   "pygments_lexer": "ipython3",
   "version": "3.10.8"
  }
 },
 "nbformat": 4,
 "nbformat_minor": 5
}
